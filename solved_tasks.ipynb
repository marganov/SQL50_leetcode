{
 "cells": [
  {
   "cell_type": "markdown",
   "metadata": {},
   "source": [
    "# Решение задач из списка SQL50 на leetcode\n",
    "\n",
    "## 1757.Перерабатываемые и низкокалорийные продукты\n",
    "\n",
    "Задача состоит в том, что бы вывести идентификаторы продуктов по определенным условиям.\n",
    "\n",
    "Условия:\n",
    " - поле low_fats содержит Y;\n",
    " - поле recyclable содержит Y.\n",
    "\n",
    "Сортировка любая."
   ]
  },
  {
   "cell_type": "code",
   "execution_count": null,
   "metadata": {
    "vscode": {
     "languageId": "sql"
    }
   },
   "outputs": [],
   "source": [
    "-- Write your PostgreSQL query statement below\n",
    "SELECT\n",
    "    product_id\n",
    "FROM\n",
    "    Products\n",
    "WHERE\n",
    "    low_fats = 'Y'\n",
    "    AND\n",
    "    recyclable = 'Y';"
   ]
  },
  {
   "cell_type": "markdown",
   "metadata": {},
   "source": [
    "## 584.Поиск реферала пользователя\n",
    "\n",
    "Нужно найти тех клиентов, у которых поле referee_id не равно 2.\n",
    "\n",
    "*Вернуть таблицу, в которой содержатся только те клиенты, у которых referee_id отличается от 2, или отсутствует вообще (значение null).*"
   ]
  },
  {
   "cell_type": "code",
   "execution_count": null,
   "metadata": {
    "vscode": {
     "languageId": "sql"
    }
   },
   "outputs": [],
   "source": [
    "-- первое решение было неверным, невнимательно прочел условия\n",
    "SELECT name\n",
    "FROM Customer\n",
    "WHERE referee_id != 2 AND referee_id IS NOT NULL;\n",
    "\n",
    "-- верное решение\n",
    "SELECT name\n",
    "FROM Customer\n",
    "WHERE referee_id != 2 OR referee_id IS NULL;"
   ]
  },
  {
   "cell_type": "markdown",
   "metadata": {},
   "source": [
    "## 595.Большие страны\n",
    "\n",
    "Нужно вывести название, популяцию и площадь большиз стран.\n",
    "Большая страна по условию должна быть полщадью как минимум 3 млн $км^2$ и численностью населения как минимум 25 млн человек"
   ]
  },
  {
   "cell_type": "code",
   "execution_count": null,
   "metadata": {
    "vscode": {
     "languageId": "sql"
    }
   },
   "outputs": [],
   "source": [
    "SELECT name, population, area\n",
    "FROM World\n",
    "WHERE\n",
    "    area >= 3000000\n",
    "    OR\n",
    "    population >= 25000000;"
   ]
  },
  {
   "cell_type": "markdown",
   "metadata": {},
   "source": [
    "## 1148.Просмотры статей I\n",
    "\n",
    "Напишите решение, чтобы найти всех авторов, которые просмотрели хотя бы одну из своих статей.\n",
    "\n",
    "Верните результирующую таблицу, отсортированную по идентификатору в порядке возрастания."
   ]
  },
  {
   "cell_type": "code",
   "execution_count": null,
   "metadata": {
    "vscode": {
     "languageId": "sql"
    }
   },
   "outputs": [],
   "source": [
    "SELECT DISTINCT(author_id) AS id\n",
    "FROM Views\n",
    "WHERE viewer_id = author_id \n",
    "ORDER BY id;"
   ]
  },
  {
   "cell_type": "markdown",
   "metadata": {},
   "source": [
    "## 1683.Невалидные твиты\n",
    "\n",
    "Напишите решение, чтобы найти идентификаторы недействительных твитов. Твит считается недействительным, если количество символов в его содержимом строго больше 15."
   ]
  },
  {
   "cell_type": "code",
   "execution_count": null,
   "metadata": {
    "vscode": {
     "languageId": "sql"
    }
   },
   "outputs": [],
   "source": [
    "SELECT tweet_id\n",
    "FROM Tweets\n",
    "WHERE LENGTH(content) > 15;"
   ]
  },
  {
   "cell_type": "markdown",
   "metadata": {},
   "source": [
    "## 1378:Replace Employee ID With The Unique Identifier\n",
    "\n",
    "Даны две таблицы:\n",
    " - Employees:\n",
    "     - id (INT): ID сотрудника.\n",
    "     - name (VARCHAR): Имя сотрудника.\n",
    "\n",
    " - EmployeeUNI:\n",
    "     - id (INT): ID сотрудника.\n",
    "     - unique_id (INT): Уникальный идентификатор сотрудника.\n",
    "\n",
    "Нужно вывести таблицу с именами всех сотрудников и их уникальными идентификаторами. Если у сотрудника нет уникального идентификатора, нужно вернуть null вместо уникального идентификатора."
   ]
  },
  {
   "cell_type": "code",
   "execution_count": null,
   "metadata": {
    "vscode": {
     "languageId": "sql"
    }
   },
   "outputs": [],
   "source": [
    "SELECT\n",
    "    eu.unique_id as unique_id, \n",
    "    e.name as name\n",
    "FROM\n",
    "    Employees AS e \n",
    "LEFT JOIN\n",
    "    EmployeeUNI AS eu\n",
    "    ON \n",
    "    e.id = eu.id;"
   ]
  },
  {
   "cell_type": "markdown",
   "metadata": {},
   "source": [
    "## 1068.Product Sales Analysis I\n",
    "\n",
    "Напишите запрос, чтобы вывести product_name, year и price для каждого sale_id в таблице Sales.\n",
    "\n",
    "Верните результирующую таблицу в произвольном порядке."
   ]
  },
  {
   "cell_type": "code",
   "execution_count": null,
   "metadata": {
    "vscode": {
     "languageId": "sql"
    }
   },
   "outputs": [],
   "source": [
    "SELECT\n",
    "    p.product_name, \n",
    "    s.year, \n",
    "    s.price\n",
    "FROM \n",
    "    Sales AS s \n",
    "LEFT JOIN \n",
    "    Product AS p\n",
    "    ON \n",
    "    p.product_id = s.product_id"
   ]
  },
  {
   "cell_type": "markdown",
   "metadata": {},
   "source": [
    "## 1581.Customer Who Visited but Did Not Make Any Transactions\n",
    "\n",
    "Напишите запрос, чтобы найти идентификаторы пользователей, которые посещали сайт, но не совершали транзакций, а также количество таких посещений для каждого пользователя."
   ]
  },
  {
   "cell_type": "code",
   "execution_count": null,
   "metadata": {
    "vscode": {
     "languageId": "sql"
    }
   },
   "outputs": [],
   "source": [
    "SELECT\n",
    "    v.customer_id,\n",
    "    COUNT(v.customer_id) AS count_no_trans\n",
    "FROM\n",
    "    Visits v\n",
    "LEFT JOIN\n",
    "    Transactions t\n",
    "    ON\n",
    "    v.visit_id = t.visit_id\n",
    "WHERE\n",
    "    t.visit_id IS NULL\n",
    "GROUP BY\n",
    "    v.customer_id;"
   ]
  },
  {
   "cell_type": "markdown",
   "metadata": {},
   "source": [
    "## 197.Rising Temperature\n",
    "\n",
    "Напишите SQL-запрос, чтобы найти все даты, когда температура была выше, чем в предыдущий день.\n",
    "\n",
    "Возвращаемая таблица должна содержать колонки:\n",
    "\n",
    "- `Id` — уникальный идентификатор записи,\n",
    "- `RecordDate` — дата записи,\n",
    "- `Temperature` — значение температуры.\n",
    "\n",
    "Вы должны отсортировать результат по `Id`.\n",
    "\n",
    "**Пример:**\n",
    "\n",
    "Дано таблицу `Weather`:\n",
    "\n",
    "| Id  | RecordDate | Temperature |\n",
    "|-----|------------|-------------|\n",
    "| 1   | 2015-01-01 | 10          |\n",
    "| 2   | 2015-01-02 | 25          |\n",
    "| 3   | 2015-01-03 | 20          |\n",
    "| 4   | 2015-01-04 | 30          |\n",
    "\n",
    "Ваш запрос должен вернуть следующий результат:\n",
    "\n",
    "| Id  | RecordDate | Temperature |\n",
    "|-----|------------|-------------|\n",
    "| 2   | 2015-01-02 | 25          |\n",
    "| 4   | 2015-01-04 | 30          |\n",
    "\n",
    "**Объяснение:**\n",
    "\n",
    "- 25°C 2 января больше, чем 10°C 1 января.\n",
    "- 30°C 4 января больше, чем 20°C 3 января."
   ]
  },
  {
   "cell_type": "code",
   "execution_count": null,
   "metadata": {
    "vscode": {
     "languageId": "sql"
    }
   },
   "outputs": [],
   "source": [
    "SELECT current_day.id\n",
    "FROM Weather AS current_day\n",
    "WHERE EXISTS (\n",
    "    SELECT 1\n",
    "    FROM Weather AS yesterday\n",
    "    WHERE current_day.temperature > yesterday.temperature\n",
    "    AND current_day.recordDate = yesterday.recordDate + 1\n",
    ");"
   ]
  },
  {
   "cell_type": "markdown",
   "metadata": {
    "vscode": {
     "languageId": "sql"
    }
   },
   "source": [
    "## 1661.Average Time of Process per Machine\n",
    "\n",
    "**Описание**\n",
    "\n",
    "Дана таблица `Activity`, которая содержит информацию о процессах, выполненных на различных машинах. Таблица имеет следующий формат:\n",
    "\n",
    "| Имя колонки | Тип     |\n",
    "|-------------|---------|\n",
    "| machine_id  | int     |\n",
    "| process_id  | int     |\n",
    "| activity_type | enum   |\n",
    "| timestamp   | float   |\n",
    "\n",
    "- `machine_id` — идентификатор машины.\n",
    "- `process_id` — идентификатор процесса.\n",
    "- `activity_type` — может принимать одно из двух значений: `'start'` (начало процесса) или `'end'` (завершение процесса).\n",
    "- `timestamp` — время (в секундах) завершения или начала процесса.\n",
    "\n",
    "Напишите запрос SQL, который вернет среднее время выполнения процесса для каждой машины. Время выполнения процесса определяется как разница между `end` и `start` временными метками для одного и того же процесса на одной машине.\n",
    "\n",
    "Верните таблицу с двумя колонками:\n",
    "- `machine_id` — идентификатор машины.\n",
    "- `avg_time` — среднее время выполнения процессов на этой машине, округлённое до трёх знаков после запятой.\n",
    "\n",
    "Результат должен быть отсортирован по `machine_id` в порядке возрастания.\n",
    "\n",
    "**Пример**:\n",
    "\n",
    "Входные данные:\n",
    "\n",
    "| machine_id | process_id | activity_type | timestamp |\n",
    "|------------|------------|---------------|-----------|\n",
    "| 0          | 0          | start         | 15721.0   |\n",
    "| 0          | 0          | end           | 15723.0   |\n",
    "| 0          | 1          | start         | 15724.0   |\n",
    "| 0          | 1          | end           | 15729.0   |\n",
    "| 1          | 2          | start         | 15721.0   |\n",
    "| 1          | 2          | end           | 15722.0   |\n",
    "| 1          | 3          | start         | 15725.0   |\n",
    "| 1          | 3          | end           | 15725.5   |\n",
    "\n",
    "Выходные данные:\n",
    "\n",
    "| machine_id | avg_time |\n",
    "|------------|----------|\n",
    "| 0          | 3.500    |\n",
    "| 1          | 0.750    |\n",
    "\n",
    "**Объяснение**:\n",
    "- На машине `0`, процесс `0` длился 2 секунды, а процесс `1` — 5 секунд. Среднее время = (2 + 5) / 2 = 3.5 секунды.\n",
    "- На машине `1`, процесс `2` длился 1 секунду, а процесс `3` — 0.5 секунды. Среднее время = (1 + 0.5) / 2 = 0.75 секунды.\n",
    "\n",
    "**Основные моменты**:\n",
    "- Нужно правильно сопоставить начало и конец процесса.\n",
    "- Нужно рассчитать время выполнения для каждого процесса.\n",
    "- Округлить результат до 3 знаков после запятой."
   ]
  },
  {
   "cell_type": "code",
   "execution_count": null,
   "metadata": {
    "vscode": {
     "languageId": "sql"
    }
   },
   "outputs": [],
   "source": [
    "SELECT machine_id,\n",
    "       ROUND(AVG((end_time - start_time)::numeric), 3) AS processing_time\n",
    "FROM (\n",
    "    SELECT machine_id,\n",
    "           MAX(CASE WHEN activity_type = 'start' THEN timestamp END) AS start_time,\n",
    "           MAX(CASE WHEN activity_type = 'end' THEN timestamp END) AS end_time\n",
    "    FROM Activity\n",
    "    GROUP BY machine_id, process_id\n",
    ") AS process_times\n",
    "GROUP BY machine_id\n",
    "ORDER BY machine_id ASC;\n"
   ]
  },
  {
   "cell_type": "markdown",
   "metadata": {},
   "source": [
    "## 577.Employee Bonus\n",
    "\n",
    "Напишите решение, которое сообщит имя и сумму премии каждого сотрудника с премией меньше 1000."
   ]
  },
  {
   "cell_type": "code",
   "execution_count": null,
   "metadata": {
    "vscode": {
     "languageId": "sql"
    }
   },
   "outputs": [],
   "source": [
    "SELECT\n",
    "    e.name,\n",
    "    b.bonus\n",
    "FROM\n",
    "    Employee e\n",
    "LEFT JOIN\n",
    "    Bonus b \n",
    "USING \n",
    "    empId\n",
    "WHERE\n",
    "    b.bonus < 1000 OR bonus IS NULL\n"
   ]
  },
  {
   "cell_type": "markdown",
   "metadata": {},
   "source": [
    "## 1280.Students and Examinations"
   ]
  },
  {
   "cell_type": "code",
   "execution_count": null,
   "metadata": {
    "vscode": {
     "languageId": "sql"
    }
   },
   "outputs": [],
   "source": [
    "SELECT \n",
    "    s.student_id, \n",
    "    s.student_name, \n",
    "    sub.subject_name, \n",
    "    COUNT(e.student_id) AS attended_exams\n",
    "FROM \n",
    "    Students s\n",
    "CROSS JOIN\n",
    "    Subjects sub\n",
    "LEFT JOIN \n",
    "    Examinations e \n",
    "    ON s.student_id = e.student_id \n",
    "        AND sub.subject_name = e.subject_name\n",
    "GROUP BY \n",
    "    s.student_id, s.student_name, sub.subject_name\n",
    "ORDER BY \n",
    "    s.student_id, sub.subject_name;"
   ]
  },
  {
   "cell_type": "markdown",
   "metadata": {},
   "source": [
    "## 570.Managers with at Least 5 Direct Reports"
   ]
  },
  {
   "cell_type": "code",
   "execution_count": null,
   "metadata": {
    "vscode": {
     "languageId": "sql"
    }
   },
   "outputs": [],
   "source": [
    "-- Write your PostgreSQL query statement below\n",
    "SELECT \n",
    "    name\n",
    "FROM \n",
    "    Employee\n",
    "WHERE \n",
    "    id IN (\n",
    "        SELECT managerId \n",
    "        FROM employee \n",
    "        GROUP BY managerId \n",
    "        HAVING count(id) >= 5\n",
    ");"
   ]
  },
  {
   "cell_type": "code",
   "execution_count": null,
   "metadata": {
    "vscode": {
     "languageId": "sql"
    }
   },
   "outputs": [],
   "source": [
    "-- Write your PostgreSQL query statement below\n",
    "with managers as (\n",
    "select managerId\n",
    "from employee\n",
    "group by managerId\n",
    "having count(id)>=5)\n",
    "\n",
    "select e.name\n",
    "from managers m\n",
    "join employee e on e.id=m.managerid"
   ]
  }
 ],
 "metadata": {
  "kernelspec": {
   "display_name": "Python 3",
   "language": "python",
   "name": "python3"
  },
  "language_info": {
   "codemirror_mode": {
    "name": "ipython",
    "version": 3
   },
   "file_extension": ".py",
   "mimetype": "text/x-python",
   "name": "python",
   "nbconvert_exporter": "python",
   "pygments_lexer": "ipython3",
   "version": "3.12.6"
  }
 },
 "nbformat": 4,
 "nbformat_minor": 2
}
