{
 "cells": [
  {
   "cell_type": "markdown",
   "metadata": {},
   "source": [
    "# Решение задач из списка SQL50 на leetcode\n",
    "\n",
    "## Select\n",
    "\n",
    "### 1757.Перерабатываемые и низкокалорийные продукты\n",
    "\n",
    "Задача состоит в том, что бы вывести идентификаторы продуктов по определенным условиям.\n",
    "\n",
    "Условия:\n",
    " - поле low_fats содержит Y;\n",
    " - поле recyclable содержит Y.\n",
    "\n",
    "Сортировка любая."
   ]
  },
  {
   "cell_type": "code",
   "execution_count": null,
   "metadata": {
    "vscode": {
     "languageId": "sql"
    }
   },
   "outputs": [],
   "source": [
    "-- Write your PostgreSQL query statement below\n",
    "SELECT\n",
    "    product_id\n",
    "FROM\n",
    "    Products\n",
    "WHERE\n",
    "    low_fats = 'Y'\n",
    "    AND\n",
    "    recyclable = 'Y';"
   ]
  },
  {
   "cell_type": "markdown",
   "metadata": {},
   "source": [
    "### 584.Поиск реферала пользователя\n",
    "\n",
    "Нужно найти тех клиентов, у которых поле referee_id не равно 2.\n",
    "\n",
    "*Вернуть таблицу, в которой содержатся только те клиенты, у которых referee_id отличается от 2, или отсутствует вообще (значение null).*"
   ]
  },
  {
   "cell_type": "code",
   "execution_count": null,
   "metadata": {
    "vscode": {
     "languageId": "sql"
    }
   },
   "outputs": [],
   "source": [
    "-- первое решение было неверным, невнимательно прочел условия\n",
    "SELECT name\n",
    "FROM Customer\n",
    "WHERE referee_id != 2 AND referee_id IS NOT NULL;\n",
    "\n",
    "-- верное решение\n",
    "SELECT name\n",
    "FROM Customer\n",
    "WHERE referee_id != 2 OR referee_id IS NULL;"
   ]
  },
  {
   "cell_type": "markdown",
   "metadata": {},
   "source": [
    "### 595.Большие страны\n",
    "\n",
    "Нужно вывести название, популяцию и площадь большиз стран.\n",
    "Большая страна по условию должна быть полщадью как минимум 3 млн $км^2$ и численностью населения как минимум 25 млн человек"
   ]
  },
  {
   "cell_type": "code",
   "execution_count": null,
   "metadata": {
    "vscode": {
     "languageId": "sql"
    }
   },
   "outputs": [],
   "source": [
    "SELECT name, population, area\n",
    "FROM World\n",
    "WHERE\n",
    "    area >= 3000000\n",
    "    OR\n",
    "    population >= 25000000;"
   ]
  },
  {
   "cell_type": "markdown",
   "metadata": {},
   "source": [
    "### 1148.Просмотры статей I\n",
    "\n",
    "Напишите решение, чтобы найти всех авторов, которые просмотрели хотя бы одну из своих статей.\n",
    "\n",
    "Верните результирующую таблицу, отсортированную по идентификатору в порядке возрастания."
   ]
  },
  {
   "cell_type": "code",
   "execution_count": null,
   "metadata": {
    "vscode": {
     "languageId": "sql"
    }
   },
   "outputs": [],
   "source": [
    "SELECT DISTINCT(author_id) AS id\n",
    "FROM Views\n",
    "WHERE viewer_id = author_id \n",
    "ORDER BY id;"
   ]
  },
  {
   "cell_type": "markdown",
   "metadata": {},
   "source": [
    "### 1683.Невалидные твиты\n",
    "\n",
    "Напишите решение, чтобы найти идентификаторы недействительных твитов. Твит считается недействительным, если количество символов в его содержимом строго больше 15."
   ]
  },
  {
   "cell_type": "code",
   "execution_count": null,
   "metadata": {
    "vscode": {
     "languageId": "sql"
    }
   },
   "outputs": [],
   "source": [
    "SELECT tweet_id\n",
    "FROM Tweets\n",
    "WHERE LENGTH(content) > 15;"
   ]
  },
  {
   "cell_type": "markdown",
   "metadata": {},
   "source": [
    "## Basic joins\n",
    "\n",
    "### 1378:Replace Employee ID With The Unique Identifier\n",
    "\n",
    "Даны две таблицы:\n",
    " - Employees:\n",
    "     - id (INT): ID сотрудника.\n",
    "     - name (VARCHAR): Имя сотрудника.\n",
    "\n",
    " - EmployeeUNI:\n",
    "     - id (INT): ID сотрудника.\n",
    "     - unique_id (INT): Уникальный идентификатор сотрудника.\n",
    "\n",
    "Нужно вывести таблицу с именами всех сотрудников и их уникальными идентификаторами. Если у сотрудника нет уникального идентификатора, нужно вернуть null вместо уникального идентификатора."
   ]
  },
  {
   "cell_type": "code",
   "execution_count": null,
   "metadata": {
    "vscode": {
     "languageId": "sql"
    }
   },
   "outputs": [],
   "source": [
    "SELECT\n",
    "    eu.unique_id as unique_id, \n",
    "    e.name as name\n",
    "FROM\n",
    "    Employees AS e \n",
    "LEFT JOIN\n",
    "    EmployeeUNI AS eu\n",
    "    ON \n",
    "    e.id = eu.id;"
   ]
  },
  {
   "cell_type": "markdown",
   "metadata": {},
   "source": [
    "### 1068.Product Sales Analysis I\n",
    "\n",
    "Напишите запрос, чтобы вывести product_name, year и price для каждого sale_id в таблице Sales.\n",
    "\n",
    "Верните результирующую таблицу в произвольном порядке."
   ]
  },
  {
   "cell_type": "code",
   "execution_count": null,
   "metadata": {
    "vscode": {
     "languageId": "sql"
    }
   },
   "outputs": [],
   "source": [
    "SELECT\n",
    "    p.product_name, \n",
    "    s.year, \n",
    "    s.price\n",
    "FROM \n",
    "    Sales AS s \n",
    "LEFT JOIN \n",
    "    Product AS p\n",
    "    ON \n",
    "    p.product_id = s.product_id"
   ]
  },
  {
   "cell_type": "markdown",
   "metadata": {},
   "source": [
    "### 1581.Customer Who Visited but Did Not Make Any Transactions\n",
    "\n",
    "Напишите запрос, чтобы найти идентификаторы пользователей, которые посещали сайт, но не совершали транзакций, а также количество таких посещений для каждого пользователя."
   ]
  },
  {
   "cell_type": "code",
   "execution_count": null,
   "metadata": {
    "vscode": {
     "languageId": "sql"
    }
   },
   "outputs": [],
   "source": [
    "SELECT\n",
    "    v.customer_id,\n",
    "    COUNT(v.customer_id) AS count_no_trans\n",
    "FROM\n",
    "    Visits v\n",
    "LEFT JOIN\n",
    "    Transactions t\n",
    "    ON\n",
    "    v.visit_id = t.visit_id\n",
    "WHERE\n",
    "    t.visit_id IS NULL\n",
    "GROUP BY\n",
    "    v.customer_id;"
   ]
  },
  {
   "cell_type": "markdown",
   "metadata": {},
   "source": [
    "### 197.Rising Temperature\n",
    "\n",
    "Напишите SQL-запрос, чтобы найти все даты, когда температура была выше, чем в предыдущий день.\n",
    "\n",
    "Возвращаемая таблица должна содержать колонки:\n",
    "\n",
    "- `Id` — уникальный идентификатор записи,\n",
    "- `RecordDate` — дата записи,\n",
    "- `Temperature` — значение температуры.\n",
    "\n",
    "Вы должны отсортировать результат по `Id`.\n",
    "\n",
    "**Пример:**\n",
    "\n",
    "Дано таблицу `Weather`:\n",
    "\n",
    "| Id  | RecordDate | Temperature |\n",
    "|-----|------------|-------------|\n",
    "| 1   | 2015-01-01 | 10          |\n",
    "| 2   | 2015-01-02 | 25          |\n",
    "| 3   | 2015-01-03 | 20          |\n",
    "| 4   | 2015-01-04 | 30          |\n",
    "\n",
    "Ваш запрос должен вернуть следующий результат:\n",
    "\n",
    "| Id  | RecordDate | Temperature |\n",
    "|-----|------------|-------------|\n",
    "| 2   | 2015-01-02 | 25          |\n",
    "| 4   | 2015-01-04 | 30          |\n",
    "\n",
    "**Объяснение:**\n",
    "\n",
    "- 25°C 2 января больше, чем 10°C 1 января.\n",
    "- 30°C 4 января больше, чем 20°C 3 января."
   ]
  },
  {
   "cell_type": "code",
   "execution_count": null,
   "metadata": {
    "vscode": {
     "languageId": "sql"
    }
   },
   "outputs": [],
   "source": [
    "SELECT current_day.id\n",
    "FROM Weather AS current_day\n",
    "WHERE EXISTS (\n",
    "    SELECT 1\n",
    "    FROM Weather AS yesterday\n",
    "    WHERE current_day.temperature > yesterday.temperature\n",
    "    AND current_day.recordDate = yesterday.recordDate + 1\n",
    ");"
   ]
  },
  {
   "cell_type": "markdown",
   "metadata": {
    "vscode": {
     "languageId": "sql"
    }
   },
   "source": [
    "### 1661.Average Time of Process per Machine\n",
    "\n",
    "**Описание**\n",
    "\n",
    "Дана таблица `Activity`, которая содержит информацию о процессах, выполненных на различных машинах. Таблица имеет следующий формат:\n",
    "\n",
    "| Имя колонки | Тип     |\n",
    "|-------------|---------|\n",
    "| machine_id  | int     |\n",
    "| process_id  | int     |\n",
    "| activity_type | enum   |\n",
    "| timestamp   | float   |\n",
    "\n",
    "- `machine_id` — идентификатор машины.\n",
    "- `process_id` — идентификатор процесса.\n",
    "- `activity_type` — может принимать одно из двух значений: `'start'` (начало процесса) или `'end'` (завершение процесса).\n",
    "- `timestamp` — время (в секундах) завершения или начала процесса.\n",
    "\n",
    "Напишите запрос SQL, который вернет среднее время выполнения процесса для каждой машины. Время выполнения процесса определяется как разница между `end` и `start` временными метками для одного и того же процесса на одной машине.\n",
    "\n",
    "Верните таблицу с двумя колонками:\n",
    "- `machine_id` — идентификатор машины.\n",
    "- `avg_time` — среднее время выполнения процессов на этой машине, округлённое до трёх знаков после запятой.\n",
    "\n",
    "Результат должен быть отсортирован по `machine_id` в порядке возрастания.\n",
    "\n",
    "**Пример**:\n",
    "\n",
    "Входные данные:\n",
    "\n",
    "| machine_id | process_id | activity_type | timestamp |\n",
    "|------------|------------|---------------|-----------|\n",
    "| 0          | 0          | start         | 15721.0   |\n",
    "| 0          | 0          | end           | 15723.0   |\n",
    "| 0          | 1          | start         | 15724.0   |\n",
    "| 0          | 1          | end           | 15729.0   |\n",
    "| 1          | 2          | start         | 15721.0   |\n",
    "| 1          | 2          | end           | 15722.0   |\n",
    "| 1          | 3          | start         | 15725.0   |\n",
    "| 1          | 3          | end           | 15725.5   |\n",
    "\n",
    "Выходные данные:\n",
    "\n",
    "| machine_id | avg_time |\n",
    "|------------|----------|\n",
    "| 0          | 3.500    |\n",
    "| 1          | 0.750    |\n",
    "\n",
    "**Объяснение**:\n",
    "- На машине `0`, процесс `0` длился 2 секунды, а процесс `1` — 5 секунд. Среднее время = (2 + 5) / 2 = 3.5 секунды.\n",
    "- На машине `1`, процесс `2` длился 1 секунду, а процесс `3` — 0.5 секунды. Среднее время = (1 + 0.5) / 2 = 0.75 секунды.\n",
    "\n",
    "**Основные моменты**:\n",
    "- Нужно правильно сопоставить начало и конец процесса.\n",
    "- Нужно рассчитать время выполнения для каждого процесса.\n",
    "- Округлить результат до 3 знаков после запятой."
   ]
  },
  {
   "cell_type": "code",
   "execution_count": null,
   "metadata": {
    "vscode": {
     "languageId": "sql"
    }
   },
   "outputs": [],
   "source": [
    "SELECT machine_id,\n",
    "       ROUND(AVG((end_time - start_time)::numeric), 3) AS processing_time\n",
    "FROM (\n",
    "    SELECT machine_id,\n",
    "           MAX(CASE WHEN activity_type = 'start' THEN timestamp END) AS start_time,\n",
    "           MAX(CASE WHEN activity_type = 'end' THEN timestamp END) AS end_time\n",
    "    FROM Activity\n",
    "    GROUP BY machine_id, process_id\n",
    ") AS process_times\n",
    "GROUP BY machine_id\n",
    "ORDER BY machine_id ASC;\n"
   ]
  },
  {
   "cell_type": "markdown",
   "metadata": {},
   "source": [
    "### 577.Employee Bonus\n",
    "\n",
    "Напишите решение, которое сообщит имя и сумму премии каждого сотрудника с премией меньше 1000."
   ]
  },
  {
   "cell_type": "code",
   "execution_count": null,
   "metadata": {
    "vscode": {
     "languageId": "sql"
    }
   },
   "outputs": [],
   "source": [
    "SELECT\n",
    "    e.name,\n",
    "    b.bonus\n",
    "FROM\n",
    "    Employee e\n",
    "LEFT JOIN\n",
    "    Bonus b \n",
    "USING \n",
    "    empId\n",
    "WHERE\n",
    "    b.bonus < 1000 OR bonus IS NULL\n"
   ]
  },
  {
   "cell_type": "markdown",
   "metadata": {},
   "source": [
    "### 1280.Students and Examinations"
   ]
  },
  {
   "cell_type": "code",
   "execution_count": null,
   "metadata": {
    "vscode": {
     "languageId": "sql"
    }
   },
   "outputs": [],
   "source": [
    "SELECT \n",
    "    s.student_id, \n",
    "    s.student_name, \n",
    "    sub.subject_name, \n",
    "    COUNT(e.student_id) AS attended_exams\n",
    "FROM \n",
    "    Students s\n",
    "CROSS JOIN\n",
    "    Subjects sub\n",
    "LEFT JOIN \n",
    "    Examinations e \n",
    "    ON s.student_id = e.student_id \n",
    "        AND sub.subject_name = e.subject_name\n",
    "GROUP BY \n",
    "    s.student_id, s.student_name, sub.subject_name\n",
    "ORDER BY \n",
    "    s.student_id, sub.subject_name;"
   ]
  },
  {
   "cell_type": "markdown",
   "metadata": {},
   "source": [
    "### 570.Managers with at Least 5 Direct Reports"
   ]
  },
  {
   "cell_type": "code",
   "execution_count": null,
   "metadata": {
    "vscode": {
     "languageId": "sql"
    }
   },
   "outputs": [],
   "source": [
    "-- Write your PostgreSQL query statement below\n",
    "SELECT \n",
    "    name\n",
    "FROM \n",
    "    Employee\n",
    "WHERE \n",
    "    id IN (\n",
    "        SELECT managerId \n",
    "        FROM employee \n",
    "        GROUP BY managerId \n",
    "        HAVING count(id) >= 5\n",
    ");"
   ]
  },
  {
   "cell_type": "markdown",
   "metadata": {},
   "source": [
    "### 570.Managers with at Least 5 Direct Reports"
   ]
  },
  {
   "cell_type": "code",
   "execution_count": null,
   "metadata": {
    "vscode": {
     "languageId": "sql"
    }
   },
   "outputs": [],
   "source": [
    "-- Write your PostgreSQL query statement below\n",
    "WITH managers AS\n",
    "    (SELECT managerId\n",
    "     FROM employee\n",
    "     GROUP BY managerId\n",
    "     HAVING count(id)>=5)\n",
    "SELECT e.name\n",
    "FROM managers m\n",
    "JOIN employee e ON e.id=m.managerid"
   ]
  },
  {
   "cell_type": "markdown",
   "metadata": {},
   "source": [
    "### 1934.Confirmation Rate"
   ]
  },
  {
   "cell_type": "code",
   "execution_count": null,
   "metadata": {
    "vscode": {
     "languageId": "sql"
    }
   },
   "outputs": [],
   "source": [
    "SELECT s.user_id,\n",
    "       ROUND(AVG(CASE\n",
    "                     WHEN action = 'confirmed' THEN 1\n",
    "                     ELSE 0\n",
    "                 END),2) AS confirmation_rate\n",
    "FROM signups s\n",
    "LEFT JOIN confirmations c ON s.user_id = c.user_id\n",
    "GROUP BY s.user_id;"
   ]
  },
  {
   "cell_type": "markdown",
   "metadata": {},
   "source": [
    "### 620.Not Boring Movies"
   ]
  },
  {
   "cell_type": "code",
   "execution_count": null,
   "metadata": {
    "vscode": {
     "languageId": "sql"
    }
   },
   "outputs": [],
   "source": [
    "SELECT *\n",
    "FROM Cinema\n",
    "WHERE id % 2 = 1\n",
    "    AND description != 'boring'\n",
    "ORDER BY rating DESC;"
   ]
  },
  {
   "cell_type": "markdown",
   "metadata": {},
   "source": [
    "## "
   ]
  },
  {
   "cell_type": "code",
   "execution_count": null,
   "metadata": {
    "vscode": {
     "languageId": "sql"
    }
   },
   "outputs": [],
   "source": [
    "SELECT p.product_id,\n",
    "       COALESCE(ROUND(SUM(us.units * p.price)::numeric / SUM(units), 2), 0) AS average_price\n",
    "FROM Prices p\n",
    "LEFT JOIN UnitsSold us ON us.product_id = p.product_id\n",
    "AND us.purchase_date BETWEEN p.start_date AND p.end_date\n",
    "GROUP BY (p.product_id)"
   ]
  },
  {
   "cell_type": "markdown",
   "metadata": {},
   "source": [
    "### 1075.Project Employees I"
   ]
  },
  {
   "cell_type": "code",
   "execution_count": null,
   "metadata": {
    "vscode": {
     "languageId": "sql"
    }
   },
   "outputs": [],
   "source": [
    "SELECT p.project_id,\n",
    "       ROUND(AVG(e.experience_years), 2) average_years\n",
    "FROM Project p\n",
    "LEFT JOIN Employee e USING (employee_id)\n",
    "GROUP BY p.project_id;\n",
    "\n"
   ]
  },
  {
   "cell_type": "markdown",
   "metadata": {},
   "source": [
    "### 1633.Percentage of Users Attended a Contest"
   ]
  },
  {
   "cell_type": "code",
   "execution_count": null,
   "metadata": {
    "vscode": {
     "languageId": "sql"
    }
   },
   "outputs": [],
   "source": [
    "SELECT contest_id,\n",
    "       ROUND( COUNT(DISTINCT user_id) * 100 /\n",
    "                 (SELECT COUNT(user_id)\n",
    "                  FROM Users)::dec , 2) AS percentage\n",
    "FROM Register\n",
    "GROUP BY contest_id\n",
    "ORDER BY percentage DESC,\n",
    "         contest_id;"
   ]
  },
  {
   "cell_type": "markdown",
   "metadata": {},
   "source": [
    "### 1211.Queries Quality and Percentage"
   ]
  },
  {
   "cell_type": "code",
   "execution_count": null,
   "metadata": {
    "vscode": {
     "languageId": "sql"
    }
   },
   "outputs": [],
   "source": [
    "SELECT query_name,\n",
    "       ROUND(AVG(rating / position::decimal), 2) quality,\n",
    "       ROUND(SUM((rating < 3)::int) * 100. / COUNT(*), 2) poor_query_percentage\n",
    "FROM Queries\n",
    "WHERE query_name IS NOT NULL\n",
    "GROUP BY query_name;"
   ]
  },
  {
   "cell_type": "markdown",
   "metadata": {},
   "source": [
    "### 1193.Monthly Transactions I\n",
    "\n",
    "Таблица: `Transactions`\n",
    "\n",
    "| Название колонки | Тип    |\n",
    "|------------------|--------|\n",
    "| id               | int    |\n",
    "| country          | varchar|\n",
    "| state            | enum   |\n",
    "| amount           | int    |\n",
    "| trans_date       | date   |\n",
    "\n",
    "`id` является первичным ключом этой таблицы. Таблица содержит информацию о входящих транзакциях. Колонка `state` имеет тип enum с возможными значениями [\"approved\", \"declined\"].\n",
    "\n",
    "Напишите SQL-запрос, чтобы найти для каждого месяца и страны количество транзакций и их общую сумму, количество одобренных транзакций и их общую сумму.\n",
    "\n",
    "Верните результирующую таблицу в любом порядке."
   ]
  },
  {
   "cell_type": "code",
   "execution_count": null,
   "metadata": {
    "vscode": {
     "languageId": "sql"
    }
   },
   "outputs": [],
   "source": [
    "-- Write your PostgreSQL query statement below\n",
    "SELECT TO_CHAR(trans_date, 'YYYY-MM') AS month,\n",
    "       country,\n",
    "       COUNT(*) AS trans_count,\n",
    "       COUNT(state) FILTER (WHERE state = 'approved') AS approved_count,\n",
    "       SUM(amount) AS trans_total_amount,\n",
    "       COALESCE(SUM(amount) FILTER (WHERE state = 'approved'), 0) AS approved_total_amount\n",
    "FROM Transactions\n",
    "GROUP BY month, country;"
   ]
  },
  {
   "cell_type": "markdown",
   "metadata": {},
   "source": [
    "### 1174. Immediate Food Delivery II\n",
    "\n",
    "Таблица: Delivery\n",
    "\n",
    "| Column Name                 | Type    |\n",
    "|-----------------------------|---------|\n",
    "| delivery_id                 | int     |\n",
    "| customer_id                 | int     |\n",
    "| order_date                  | date    |\n",
    "| customer_pref_delivery_date | date    |\n",
    "\n",
    "- `delivery_id` является уникальным столбцом этой таблицы.\n",
    "- Таблица содержит информацию о доставке еды клиентам, которые делают заказы в определённый день и указывают предпочтительную дату доставки (в тот же день или позже).\n",
    "  \n",
    "Если предпочтительная дата доставки клиента совпадает с датой заказа, заказ называется \"немедленным\" (immediate); в противном случае заказ называется \"запланированным\" (scheduled).\n",
    "\n",
    "Первый заказ клиента — это заказ с самой ранней датой заказа, который клиент сделал. Гарантируется, что у каждого клиента есть ровно один первый заказ.\n",
    "\n",
    "**Задача:** Напишите SQL-запрос для вычисления процента немедленных заказов среди первых заказов всех клиентов, округлённого до двух знаков после запятой.\n",
    "\n",
    "**Пример 1:**\n",
    "\n",
    "Ввод:\n",
    "\n",
    "Таблица Delivery:\n",
    "\n",
    "| delivery_id | customer_id | order_date | customer_pref_delivery_date |\n",
    "|-------------|-------------|------------|-----------------------------|\n",
    "| 1           | 1           | 2019-08-01 | 2019-08-02                  |\n",
    "| 2           | 2           | 2019-08-02 | 2019-08-02                  |\n",
    "| 3           | 1           | 2019-08-11 | 2019-08-12                  |\n",
    "| 4           | 3           | 2019-08-24 | 2019-08-24                  |\n",
    "| 5           | 3           | 2019-08-21 | 2019-08-22                  |\n",
    "| 6           | 2           | 2019-08-11 | 2019-08-13                  |\n",
    "| 7           | 4           | 2019-08-09 | 2019-08-09                  |\n",
    "\n",
    "Вывод:\n",
    "\n",
    "| immediate_percentage |\n",
    "|----------------------|\n",
    "| 50.00                |\n",
    "\n",
    "**Объяснение:**\n",
    "\n",
    "- У клиента с `customer_id = 1` первый заказ — это заказ с `delivery_id = 1`, и это запланированный заказ.\n",
    "- У клиента с `customer_id = 2` первый заказ — это заказ с `delivery_id = 2`, и это немедленный заказ.\n",
    "- У клиента с `customer_id = 3` первый заказ — это заказ с `delivery_id = 5`, и это запланированный заказ.\n",
    "- У клиента с `customer_id = 4` первый заказ — это заказ с `delivery_id = 7`, и это немедленный заказ.\n",
    "\n",
    "Таким образом, у половины клиентов первый заказ был немедленным, что даёт 50%."
   ]
  },
  {
   "cell_type": "code",
   "execution_count": null,
   "metadata": {
    "vscode": {
     "languageId": "sql"
    }
   },
   "outputs": [],
   "source": [
    "SELECT ROUND(AVG(CASE\n",
    "                     WHEN order_date = customer_pref_delivery_date THEN 1\n",
    "                     ELSE 0\n",
    "                 END)*100, 2) AS immediate_percentage\n",
    "FROM Delivery\n",
    "WHERE (customer_id,\n",
    "       order_date) IN\n",
    "        ( SELECT customer_id,\n",
    "                 MIN(order_date)\n",
    "         FROM Delivery\n",
    "         GROUP BY customer_id)"
   ]
  },
  {
   "cell_type": "code",
   "execution_count": null,
   "metadata": {
    "vscode": {
     "languageId": "sql"
    }
   },
   "outputs": [],
   "source": [
    "-- Write your PostgreSQL query statement below\n",
    "\n",
    "select round(count(*)::numeric/\n",
    "                 (select count(distinct player_id)\n",
    "                  from Activity), 2) as fraction\n",
    "from Activity\n",
    "where (player_id,\n",
    "       event_date) in\n",
    "        ( select player_id,\n",
    "                 min(event_date) + 1\n",
    "         from Activity\n",
    "         group by player_id )"
   ]
  },
  {
   "cell_type": "markdown",
   "metadata": {},
   "source": [
    "## Sorting and Grouping\n",
    "\n",
    "### 2356.Number of Unique Subjects Taught by Each Teacher\n",
    "\n",
    "**Задача**  \n",
    "Есть таблица `Teacher`:\n",
    "\n",
    "| Column Name | Type |\n",
    "|-------------|------|\n",
    "| teacher_id  | int  |\n",
    "| subject_id  | int  |\n",
    "| dept_id     | int  |\n",
    "\n",
    "\n",
    "Первичный ключ (уникальные комбинации) в таблице – это сочетание полей `(subject_id, dept_id)`. Каждая строка в этой таблице указывает на то, что учитель с `teacher_id` преподает предмет с `subject_id` в департаменте с `dept_id`.\n",
    "\n",
    "**Требуется**  \n",
    "Написать запрос, который вычисляет количество уникальных предметов, которые преподает каждый учитель в университете.\n",
    "\n",
    "**Формат вывода**  \n",
    "Результат можно выводить в любом порядке.\n",
    "\n",
    "\n"
   ]
  },
  {
   "cell_type": "code",
   "execution_count": null,
   "metadata": {
    "vscode": {
     "languageId": "sql"
    }
   },
   "outputs": [],
   "source": [
    "-- Write your PostgreSQL query statement below\n",
    "SELECT teacher_id,\n",
    "       COUNT(DISTINCT subject_id) AS cnt\n",
    "FROM Teacher\n",
    "GROUP BY teacher_id;"
   ]
  },
  {
   "cell_type": "markdown",
   "metadata": {},
   "source": [
    "### 1141. User Activity for the Past 30 Days I\n",
    "\n",
    "Вот перевод задачи и таблица, отформатированная для вставки в markdown:\n",
    "\n",
    "### Таблица: Activity\n",
    "\n",
    "| Название колонки | Тип    |\n",
    "|------------------|--------|\n",
    "| user_id          | int    |\n",
    "| session_id       | int    |\n",
    "| activity_date    | date   |\n",
    "| activity_type    | enum   |\n",
    "\n",
    "Эта таблица может содержать дублирующиеся строки. Колонка `activity_type` — это ENUM (перечисление) с категориями ('open_session', 'end_session', 'scroll_down', 'send_message'). Таблица показывает активность пользователей на сайте социальной сети. Обратите внимание, что каждая сессия принадлежит только одному пользователю.\n",
    "\n",
    "### Задача:\n",
    "\n",
    "Напишите решение для нахождения количества активных пользователей за каждый день за период в 30 дней, заканчивающийся включительно 27 июля 2019 года. Пользователь считается активным в какой-либо день, если он совершил хотя бы одно действие в этот день.\n",
    "\n",
    "Возвращаемая таблица может быть в любом порядке."
   ]
  },
  {
   "cell_type": "code",
   "execution_count": null,
   "metadata": {
    "vscode": {
     "languageId": "sql"
    }
   },
   "outputs": [],
   "source": [
    "SELECT activity_date \"day\", COUNT(DISTINCT user_id) active_users\n",
    "FROM Activity\n",
    "WHERE '2019-07-28' - activity_date <= 30 AND '2019-07-28' - activity_date > 0\n",
    "GROUP BY activity_date\n",
    "HAVING COUNT(activity_type) >= 1"
   ]
  },
  {
   "cell_type": "markdown",
   "metadata": {},
   "source": [
    "### 1070.Product Sales Analysis III"
   ]
  },
  {
   "cell_type": "code",
   "execution_count": null,
   "metadata": {
    "vscode": {
     "languageId": "sql"
    }
   },
   "outputs": [],
   "source": [
    "-- Write your PostgreSQL query statement below\n",
    "WITH CTE AS (\n",
    "    SELECT product_id, MIN(year) AS minyear FROM Sales \n",
    "    GROUP BY product_id \n",
    ")\n",
    "\n",
    "SELECT s.product_id, s.year AS first_year, s.quantity, s.price \n",
    "FROM Sales s\n",
    "INNER JOIN CTE ON cte.product_id = s.product_id  AND s.year = cte.minyear; "
   ]
  },
  {
   "cell_type": "markdown",
   "metadata": {
    "vscode": {
     "languageId": "sql"
    }
   },
   "source": [
    "### 1729.Find Followers Count"
   ]
  },
  {
   "cell_type": "code",
   "execution_count": null,
   "metadata": {
    "vscode": {
     "languageId": "sql"
    }
   },
   "outputs": [],
   "source": [
    "SELECT user_id,\n",
    "       COUNT(follower_id) followers_count\n",
    "FROM Followers\n",
    "GROUP BY user_id\n",
    "ORDER BY user_id;"
   ]
  },
  {
   "cell_type": "markdown",
   "metadata": {
    "vscode": {
     "languageId": "sql"
    }
   },
   "source": [
    "### 1045.Customers Who Bought All Products"
   ]
  },
  {
   "cell_type": "code",
   "execution_count": null,
   "metadata": {
    "vscode": {
     "languageId": "sql"
    }
   },
   "outputs": [],
   "source": [
    "SELECT customer_id\n",
    "FROM Customer\n",
    "GROUP BY customer_id\n",
    "HAVING COUNT(DISTINCT product_key) = (SELECT COUNT(DISTINCT product_key)\n",
    "            FROM PRODUCT)\n"
   ]
  },
  {
   "cell_type": "markdown",
   "metadata": {},
   "source": [
    "## Advanced Select and Joins\n",
    "\n",
    "### 1731. The Number of Employees Which Report to Each Employee"
   ]
  },
  {
   "cell_type": "code",
   "execution_count": null,
   "metadata": {
    "vscode": {
     "languageId": "sql"
    }
   },
   "outputs": [],
   "source": [
    "SELECT e1.employee_id,\n",
    "       e1.name,\n",
    "       COUNT(e2.reports_to) reports_count,\n",
    "       AVG(e2.age)::int average_age\n",
    "FROM Employees e1\n",
    "JOIN Employees e2\n",
    "       ON e1.employee_id = e2.reports_to\n",
    "GROUP BY e1.employee_id, e1.name\n",
    "ORDER BY e1.employee_id; \n"
   ]
  },
  {
   "cell_type": "markdown",
   "metadata": {},
   "source": [
    "### 1789.Primary Department for Each Employee\n",
    "\n",
    "Задача:\n",
    "\n",
    "У вас есть таблица `Employee`, которая содержит данные о сотрудниках и департаментах, к которым они принадлежат. Сотрудник может быть частью нескольких департаментов, и в каждом департаменте указывается, является ли этот департамент основным для сотрудника. Необходимо написать решение, которое выведет всех сотрудников с их основным департаментом. Если сотрудник принадлежит только одному департаменту, вывести этот департамент, даже если он не является основным.\n",
    "\n",
    "**Таблица: Employee**\n",
    "\n",
    "| Название столбца | Тип      |\n",
    "|------------------|----------|\n",
    "| employee_id      | int      |\n",
    "| department_id    | int      |\n",
    "| primary_flag     | varchar  |\n",
    "\n",
    "- `(employee_id, department_id)` является первичным ключом (комбинация уникальных значений).\n",
    "- `employee_id` — идентификатор сотрудника.\n",
    "- `department_id` — идентификатор департамента, к которому относится сотрудник.\n",
    "- `primary_flag` — это ENUM (перечислимый тип) значений `'Y'` или `'N'`. Если значение `'Y'`, то департамент является основным для сотрудника. Если `'N'`, департамент не является основным.\n",
    "\n",
    "### Пример данных:\n",
    "\n",
    "| employee_id | department_id | primary_flag |\n",
    "|-------------|---------------|--------------|\n",
    "| 1           | 1             | Y            |\n",
    "| 2           | 1             | N            |\n",
    "| 2           | 2             | Y            |\n",
    "| 3           | 3             | N            |\n",
    "\n",
    "### Пример результата:\n",
    "\n",
    "| employee_id | department_id |\n",
    "|-------------|---------------|\n",
    "| 1           | 1             |\n",
    "| 2           | 2             |\n",
    "| 3           | 3             |\n",
    "\n",
    "### Описание:\n",
    "\n",
    "- Нужно вывести для каждого сотрудника его основной департамент.\n",
    "- Если сотрудник состоит только в одном департаменте, даже если `primary_flag` установлен в `'N'`, нужно вывести этот департамент.\n",
    "\n"
   ]
  },
  {
   "cell_type": "code",
   "execution_count": null,
   "metadata": {
    "vscode": {
     "languageId": "sql"
    }
   },
   "outputs": [],
   "source": [
    "SELECT DISTINCT ON(employee_id) employee_id, \n",
    "       department_id \n",
    "FROM employee \n",
    "ORDER BY employee_id, primary_flag DESC;"
   ]
  },
  {
   "cell_type": "markdown",
   "metadata": {
    "vscode": {
     "languageId": "sql"
    }
   },
   "source": [
    "### "
   ]
  }
 ],
 "metadata": {
  "kernelspec": {
   "display_name": "Python 3",
   "language": "python",
   "name": "python3"
  },
  "language_info": {
   "codemirror_mode": {
    "name": "ipython",
    "version": 3
   },
   "file_extension": ".py",
   "mimetype": "text/x-python",
   "name": "python",
   "nbconvert_exporter": "python",
   "pygments_lexer": "ipython3",
   "version": "3.12.6"
  }
 },
 "nbformat": 4,
 "nbformat_minor": 2
}
