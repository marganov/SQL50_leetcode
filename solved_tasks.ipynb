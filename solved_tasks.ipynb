{
 "cells": [
  {
   "cell_type": "markdown",
   "metadata": {},
   "source": [
    "# Решение задач из списка SQL50 на leetcode\n",
    "\n",
    "## 1757.Перерабатываемые и низкокалорийные продукты\n",
    "\n",
    "Задача состоит в том, что бы вывести идентификаторы продуктов по определенным условиям.\n",
    "\n",
    "Условия:\n",
    " - поле low_fats содержит Y;\n",
    " - поле recyclable содержит Y.\n",
    "\n",
    "Сортировка любая."
   ]
  },
  {
   "cell_type": "code",
   "execution_count": null,
   "metadata": {
    "vscode": {
     "languageId": "sql"
    }
   },
   "outputs": [],
   "source": [
    "-- Write your PostgreSQL query statement below\n",
    "SELECT\n",
    "    product_id\n",
    "FROM\n",
    "    Products\n",
    "WHERE\n",
    "    low_fats = 'Y'\n",
    "    AND\n",
    "    recyclable = 'Y';"
   ]
  },
  {
   "cell_type": "markdown",
   "metadata": {},
   "source": [
    "Инсайды:\n",
    " - узнал о существовании типа данных ENUM\n"
   ]
  },
  {
   "cell_type": "markdown",
   "metadata": {},
   "source": [
    "## 584.Поиск реферала пользователя\n",
    "\n",
    "Нужно найти тех клиентов, у которых поле referee_id не равно 2.\n",
    "\n",
    "*Вернуть таблицу, в которой содержатся только те клиенты, у которых referee_id отличается от 2, или отсутствует вообще (значение null).*"
   ]
  },
  {
   "cell_type": "code",
   "execution_count": null,
   "metadata": {
    "vscode": {
     "languageId": "sql"
    }
   },
   "outputs": [],
   "source": [
    "-- первое решение было неверным, невнимательно прочел условия\n",
    "SELECT name\n",
    "FROM Customer\n",
    "WHERE referee_id != 2 AND referee_id IS NOT NULL;\n",
    "\n",
    "-- верное решение\n",
    "SELECT name\n",
    "FROM Customer\n",
    "WHERE referee_id != 2 OR referee_id IS NULL;"
   ]
  },
  {
   "cell_type": "markdown",
   "metadata": {},
   "source": [
    "## 595.Большие страны\n",
    "\n",
    "Нужно вывести название, популяцию и площадь большиз стран.\n",
    "Большая страна по условию должна быть полщадью как минимум 3 млн $км^2$ и численностью населения как минимум 25 млн человек"
   ]
  },
  {
   "cell_type": "code",
   "execution_count": null,
   "metadata": {
    "vscode": {
     "languageId": "sql"
    }
   },
   "outputs": [],
   "source": [
    "SELECT name, population, area\n",
    "FROM World\n",
    "WHERE\n",
    "    area >= 3000000\n",
    "    OR\n",
    "    population >= 25000000;"
   ]
  },
  {
   "cell_type": "markdown",
   "metadata": {},
   "source": [
    "## 1148.Просмотры статей I\n",
    "\n",
    "Напишите решение, чтобы найти всех авторов, которые просмотрели хотя бы одну из своих статей.\n",
    "\n",
    "Верните результирующую таблицу, отсортированную по идентификатору в порядке возрастания."
   ]
  },
  {
   "cell_type": "code",
   "execution_count": null,
   "metadata": {
    "vscode": {
     "languageId": "sql"
    }
   },
   "outputs": [],
   "source": [
    "SELECT DISTINCT(author_id) AS id\n",
    "FROM Views\n",
    "WHERE viewer_id = author_id \n",
    "ORDER BY id;"
   ]
  },
  {
   "cell_type": "markdown",
   "metadata": {},
   "source": [
    "## 1683.Невалидные твиты\n",
    "\n",
    "Напишите решение, чтобы найти идентификаторы недействительных твитов. Твит считается недействительным, если количество символов в его содержимом строго больше 15."
   ]
  },
  {
   "cell_type": "code",
   "execution_count": null,
   "metadata": {
    "vscode": {
     "languageId": "sql"
    }
   },
   "outputs": [],
   "source": [
    "SELECT tweet_id\n",
    "FROM Tweets\n",
    "WHERE LENGTH(content) > 15;"
   ]
  }
 ],
 "metadata": {
  "kernelspec": {
   "display_name": "Python 3",
   "language": "python",
   "name": "python3"
  },
  "language_info": {
   "codemirror_mode": {
    "name": "ipython",
    "version": 3
   },
   "file_extension": ".py",
   "mimetype": "text/x-python",
   "name": "python",
   "nbconvert_exporter": "python",
   "pygments_lexer": "ipython3",
   "version": "3.12.6"
  }
 },
 "nbformat": 4,
 "nbformat_minor": 2
}
